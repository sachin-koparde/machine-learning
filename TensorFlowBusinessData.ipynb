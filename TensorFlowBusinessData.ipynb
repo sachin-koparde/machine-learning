{
  "nbformat": 4,
  "nbformat_minor": 0,
  "metadata": {
    "colab": {
      "name": "TensorFlowBusinessData.ipynb",
      "provenance": [],
      "collapsed_sections": [],
      "authorship_tag": "ABX9TyNGZgHmA58Tg8k6WObHlgDN",
      "include_colab_link": true
    },
    "kernelspec": {
      "name": "python3",
      "display_name": "Python 3"
    }
  },
  "cells": [
    {
      "cell_type": "markdown",
      "metadata": {
        "id": "view-in-github",
        "colab_type": "text"
      },
      "source": [
        "<a href=\"https://colab.research.google.com/github/sachin-koparde/machine-learning/blob/master/TensorFlowBusinessData.ipynb\" target=\"_parent\"><img src=\"https://colab.research.google.com/assets/colab-badge.svg\" alt=\"Open In Colab\"/></a>"
      ]
    },
    {
      "cell_type": "code",
      "metadata": {
        "id": "qCoZ9NQ3X5HF",
        "colab_type": "code",
        "colab": {}
      },
      "source": [
        "import tensorflow as tf\n",
        "import numpy as np\n",
        "import matplotlib.pyplot as plt"
      ],
      "execution_count": 0,
      "outputs": []
    },
    {
      "cell_type": "code",
      "metadata": {
        "id": "DOLUOxT4bGrD",
        "colab_type": "code",
        "colab": {
          "base_uri": "https://localhost:8080/",
          "height": 153
        },
        "outputId": "605ba903-b566-4252-a196-e02200391d2f"
      },
      "source": [
        "mar_budget = np.array([60, 80,  100  , 30, 50, 20, 90,  10],  dtype=float)\n",
        "subs_gained = np.array([160, 200, 240, 100, 140, 80, 220, 60],  dtype=float)\n",
        "\n",
        "for i,c in enumerate(mar_budget):\n",
        "  print(\"{} Market budget = {} new subscribers gained\".format(c, subs_gained[i]))"
      ],
      "execution_count": 4,
      "outputs": [
        {
          "output_type": "stream",
          "text": [
            "60.0 Market budget = 160.0 new subscribers gained\n",
            "80.0 Market budget = 200.0 new subscribers gained\n",
            "100.0 Market budget = 240.0 new subscribers gained\n",
            "30.0 Market budget = 100.0 new subscribers gained\n",
            "50.0 Market budget = 140.0 new subscribers gained\n",
            "20.0 Market budget = 80.0 new subscribers gained\n",
            "90.0 Market budget = 220.0 new subscribers gained\n",
            "10.0 Market budget = 60.0 new subscribers gained\n"
          ],
          "name": "stdout"
        }
      ]
    },
    {
      "cell_type": "code",
      "metadata": {
        "id": "_rFiqi_nHnyS",
        "colab_type": "code",
        "colab": {
          "base_uri": "https://localhost:8080/",
          "height": 279
        },
        "outputId": "906e1c83-94f9-4712-cc58-4e54b55c5671"
      },
      "source": [
        "plt.scatter(mar_budget, subs_gained)\n",
        "plt.xlim(0,120)\n",
        "plt.ylim(0,260)\n",
        "plt.xlabel('Marketing Budget(in thousand of Dollars)')\n",
        "plt.ylabel('Subscribers Gained(in thousand)')\n",
        "plt.show()"
      ],
      "execution_count": 5,
      "outputs": [
        {
          "output_type": "display_data",
          "data": {
            "image/png": "[encoded data removed]",
            "text/plain": [
              "<Figure size 432x288 with 1 Axes>"
            ]
          },
          "metadata": {
            "tags": []
          }
        }
      ]
    }
  ]
}